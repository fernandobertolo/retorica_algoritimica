{
 "cells": [
  {
   "cell_type": "code",
   "execution_count": 2,
   "metadata": {
    "collapsed": true
   },
   "outputs": [],
   "source": [
    "import nltk, os\n",
    "from nltk.tokenize import word_tokenize\n",
    "from nltk.corpus import stopwords\n",
    "import networkx as nx\n",
    "import matplotlib.pyplot as plt\n",
    "from collections import Counter\n",
    "from funcoes_de_contagem import lista_de_mais_frequentes_calibrada, itera_ou_abre_arquivos\n",
    "from itertools import combinations"
   ]
  },
  {
   "cell_type": "markdown",
   "source": [
    "### Lista de Frenquencia da Lista de Frequencia"
   ],
   "metadata": {
    "collapsed": false
   }
  },
  {
   "cell_type": "code",
   "execution_count": 3,
   "outputs": [
    {
     "name": "stdout",
     "output_type": "stream",
     "text": [
      "Nº Caracteres corpora: corpus_comentarios_elis - \n",
      "411650\n",
      "Nº Caracteres corpora: pt.txt - \n",
      "17034654\n"
     ]
    }
   ],
   "source": [
    "termos_mais_usados = lista_de_mais_frequentes_calibrada(\"corpus_comentarios_elis\",\"pt.txt\",1200)\n",
    "lista_dez_termos_mais_usados = [termo[0] for termo in termos_mais_usados.most_common(16)]"
   ],
   "metadata": {
    "collapsed": false
   }
  },
  {
   "cell_type": "code",
   "execution_count": 4,
   "outputs": [
    {
     "data": {
      "text/plain": "['parabéns',\n 'propaganda',\n 'comercial',\n 'elis',\n '❤',\n 'lindo',\n 'volkswagen',\n 'linda',\n 'vw',\n 'emocionante',\n 'ditadura',\n 'regina',\n 'fusca',\n 'você']"
     },
     "execution_count": 4,
     "metadata": {},
     "output_type": "execute_result"
    }
   ],
   "source": [
    "lista_dez_termos_mais_usados"
   ],
   "metadata": {
    "collapsed": false
   }
  },
  {
   "cell_type": "code",
   "execution_count": 5,
   "outputs": [],
   "source": [
    "# Itera os arquivo de comentários e tranforma-os em uma lista de strings\n",
    "pasta_corpus = \"corpus_comentarios_elis/\"\n",
    "lista_de_comentarios = []\n",
    "for arquivo in os.listdir(pasta_corpus):\n",
    "    # Verifica se o arquivo é um txt\n",
    "    if arquivo.endswith(\".txt\"):\n",
    "        caminho_arquivo = os.path.join(pasta_corpus, arquivo)\n",
    "        with open(caminho_arquivo, \"r\", encoding=\"utf-8\") as f:\n",
    "            comentario = f.read().strip()  # Remove espaços extras\n",
    "            lista_de_comentarios.append(comentario)"
   ],
   "metadata": {
    "collapsed": false
   }
  },
  {
   "cell_type": "code",
   "execution_count": 7,
   "outputs": [],
   "source": [
    "# Pega o primeiro item da lista de palavras mais comuns\n",
    "# Itera os comentários\n",
    "# Tokeniza o comentário\n",
    "# Verifica se a palavra da lista de mais comuns esta presente no comentário\n",
    "# Adiciona o comentário a uma string\n",
    "# Roda o mostcomom na string"
   ],
   "metadata": {
    "collapsed": false
   }
  },
  {
   "cell_type": "code",
   "execution_count": 34,
   "outputs": [
    {
     "name": "stdout",
     "output_type": "stream",
     "text": [
      "ditadura\n"
     ]
    }
   ],
   "source": [
    "termo_alvo = lista_dez_termos_mais_usados[10]\n",
    "print(termo_alvo)\n",
    "comentarios_com_termo_alvo = \"\"\n",
    "for comentario in lista_de_comentarios:\n",
    "    comentario_tokenizado = word_tokenize(comentario.lower())\n",
    "    if termo_alvo in comentario_tokenizado:\n",
    "        comentarios_com_termo_alvo = comentarios_com_termo_alvo + \" \" + comentario"
   ],
   "metadata": {
    "collapsed": false
   }
  },
  {
   "cell_type": "code",
   "execution_count": 35,
   "outputs": [
    {
     "name": "stdout",
     "output_type": "stream",
     "text": [
      "Nº Caracteres corpora: pt.txt - \n",
      "17034654\n"
     ]
    }
   ],
   "source": [
    "teste = lista_de_mais_frequentes_calibrada(\n",
    "    caminho_corpus_especifico=comentarios_com_termo_alvo,\n",
    "    caminho_corpus_geral=\"pt.txt\",\n",
    "    limiar=100,\n",
    "    raw=False\n",
    ")"
   ],
   "metadata": {
    "collapsed": false
   }
  },
  {
   "cell_type": "code",
   "execution_count": 36,
   "outputs": [
    {
     "data": {
      "text/plain": "[('ditadura', 144),\n ('elis', 80),\n ('apoiou', 59),\n ('empresa', 53),\n ('música', 38),\n ('contra', 38),\n ('volkswagen', 36),\n ('propaganda', 34),\n ('imagem', 33),\n ('militar', 30)]"
     },
     "execution_count": 36,
     "metadata": {},
     "output_type": "execute_result"
    }
   ],
   "source": [
    "teste.most_common(10)"
   ],
   "metadata": {
    "collapsed": false
   }
  },
  {
   "cell_type": "code",
   "execution_count": null,
   "outputs": [],
   "source": [],
   "metadata": {
    "collapsed": false
   }
  },
  {
   "cell_type": "code",
   "execution_count": 37,
   "outputs": [
    {
     "name": "stdout",
     "output_type": "stream",
     "text": [
      "Nº Caracteres corpora: pt.txt - \n",
      "17034654\n"
     ]
    }
   ],
   "source": [
    "termo_alvo_1 = \"ditadura\"\n",
    "termo_alvo_2 = \"elis\"\n",
    "comentarios_com_termo_alvo = \"\"\n",
    "for comentario in lista_de_comentarios:\n",
    "    comentario_tokenizado = word_tokenize(comentario.lower())\n",
    "    if termo_alvo_1 in comentario_tokenizado and termo_alvo_2 in comentario_tokenizado:\n",
    "        comentarios_com_termo_alvo = comentarios_com_termo_alvo + \" \" + comentario\n",
    "\n",
    "teste2 = lista_de_mais_frequentes_calibrada(\n",
    "    caminho_corpus_especifico=comentarios_com_termo_alvo,\n",
    "    caminho_corpus_geral=\"pt.txt\",\n",
    "    limiar=100,\n",
    "    raw=False\n",
    ")"
   ],
   "metadata": {
    "collapsed": false
   }
  },
  {
   "cell_type": "code",
   "execution_count": 38,
   "outputs": [
    {
     "data": {
      "text/plain": "[('elis', 80),\n ('ditadura', 71),\n ('empresa', 32),\n ('apoiou', 27),\n ('regina', 25),\n ('volkswagen', 23),\n ('propaganda', 22),\n ('imagem', 20),\n ('ditadura,', 17),\n ('militar', 13)]"
     },
     "execution_count": 38,
     "metadata": {},
     "output_type": "execute_result"
    }
   ],
   "source": [
    "teste2.most_common(10)"
   ],
   "metadata": {
    "collapsed": false
   }
  },
  {
   "cell_type": "code",
   "execution_count": 2,
   "outputs": [
    {
     "name": "stderr",
     "output_type": "stream",
     "text": [
      "[nltk_data] Downloading package punkt to /Users/bertolo/nltk_data...\n",
      "[nltk_data]   Package punkt is already up-to-date!\n",
      "[nltk_data] Downloading package stopwords to\n",
      "[nltk_data]     /Users/bertolo/nltk_data...\n",
      "[nltk_data]   Unzipping corpora/stopwords.zip.\n"
     ]
    },
    {
     "data": {
      "text/plain": "True"
     },
     "execution_count": 2,
     "metadata": {},
     "output_type": "execute_result"
    }
   ],
   "source": [
    "nltk.download('punkt')\n",
    "nltk.download('stopwords')"
   ],
   "metadata": {
    "collapsed": false
   }
  },
  {
   "cell_type": "code",
   "execution_count": 1,
   "outputs": [
    {
     "name": "stdout",
     "output_type": "stream",
     "text": [
      "Modelo 'punkt' já está disponível.\n"
     ]
    }
   ],
   "source": [],
   "metadata": {
    "collapsed": false
   }
  },
  {
   "cell_type": "code",
   "execution_count": 4,
   "outputs": [],
   "source": [
    "# Itera os arquivo de comentários e tranforma-os em uma lista de strings\n",
    "# Pasta onde estão os arquivos\n",
    "\n",
    "pasta_corpus = \"corpus_comentarios_elis/\"\n",
    "lista_de_comentarios = []\n",
    "# Para cada arquivo dentro de uma pasta\n",
    "for arquivo in os.listdir(pasta_corpus):\n",
    "    if arquivo.endswith(\".txt\"):\n",
    "        caminho_arquivo = os.path.join(pasta_corpus, arquivo)\n",
    "\n",
    "        # Abre e lê o arquivo\n",
    "        with open(caminho_arquivo, \"r\", encoding=\"utf-8\") as f:\n",
    "            comentario = f.read().strip()  # Remove espaços extras\n",
    "            lista_de_comentarios.append(comentario)"
   ],
   "metadata": {
    "collapsed": false
   }
  },
  {
   "cell_type": "code",
   "execution_count": null,
   "outputs": [],
   "source": [],
   "metadata": {
    "collapsed": false
   }
  },
  {
   "cell_type": "code",
   "execution_count": 22,
   "outputs": [],
   "source": [
    "textos = [\n",
    "    \"gato dorme no sofá\",\n",
    "    \"cachorro corre no parque\",\n",
    "    \"gato brinca com novelo\",\n",
    "    \"mercado financeiro sobe\",\n",
    "    \"ações da bolsa caem\"\n",
    "]"
   ],
   "metadata": {
    "collapsed": false
   }
  },
  {
   "cell_type": "code",
   "execution_count": 23,
   "outputs": [],
   "source": [
    "# 1. Juntar todos os textos\n",
    "texto_unico = \" \".join(textos)\n",
    "# Palavra alvo\n",
    "palavra_alvo = \"gato\""
   ],
   "metadata": {
    "collapsed": false
   }
  },
  {
   "cell_type": "code",
   "execution_count": 24,
   "outputs": [],
   "source": [
    "# 2. Tokenizar (separar em palavras) e limpar stopwords\n",
    "tokens = word_tokenize(texto_unico.lower())\n",
    "stop_words = set(stopwords.words('portuguese'))\n",
    "tokens_limpos = [t for t in tokens if t.isalpha() and t not in stop_words]"
   ],
   "metadata": {
    "collapsed": false
   }
  },
  {
   "cell_type": "code",
   "execution_count": 25,
   "outputs": [],
   "source": [
    "# 3. Criar pares apenas envolvendo a palavra alvo\n",
    "pares_alvo = []\n",
    "window_size = 2\n",
    "\n",
    "for i in range(len(tokens_limpos) - window_size + 1):\n",
    "    window = tokens_limpos[i:i + window_size]\n",
    "    if palavra_alvo in window:\n",
    "        # pega o par (palavra alvo + a outra)\n",
    "        for palavra in window:\n",
    "            if palavra != palavra_alvo:\n",
    "                pares_alvo.append((palavra_alvo, palavra))"
   ],
   "metadata": {
    "collapsed": false
   }
  },
  {
   "cell_type": "code",
   "execution_count": 26,
   "outputs": [],
   "source": [
    "\n",
    "# 4. Contar frequência dos pares\n",
    "contagem_pares = Counter(pares_alvo)"
   ],
   "metadata": {
    "collapsed": false
   }
  },
  {
   "cell_type": "code",
   "execution_count": 27,
   "outputs": [
    {
     "data": {
      "text/plain": "<Figure size 800x600 with 1 Axes>",
      "image/png": "[encoded data removed]"
     },
     "metadata": {},
     "output_type": "display_data"
    }
   ],
   "source": [
    "# 5. Criar grafo focado\n",
    "G = nx.Graph()\n",
    "\n",
    "for (palavra1, palavra2), peso in contagem_pares.items():\n",
    "    G.add_edge(palavra1, palavra2, weight=peso)\n",
    "\n",
    "# 6. Visualizar grafo\n",
    "pos = nx.spring_layout(G, k=0.5)\n",
    "plt.figure(figsize=(8, 6))\n",
    "nx.draw_networkx(G, pos,\n",
    "                 with_labels=True,\n",
    "                 node_color='lightgreen',\n",
    "                 edge_color='gray',\n",
    "                 font_size=12,\n",
    "                 width=[G[u][v]['weight'] for u,v in G.edges()])\n",
    "plt.title(f\"Relações da palavra '{palavra_alvo}'\")\n",
    "plt.axis('off')\n",
    "plt.show()"
   ],
   "metadata": {
    "collapsed": false
   }
  },
  {
   "cell_type": "code",
   "execution_count": null,
   "outputs": [],
   "source": [],
   "metadata": {
    "collapsed": false
   }
  }
 ],
 "metadata": {
  "kernelspec": {
   "display_name": "Python 3",
   "language": "python",
   "name": "python3"
  },
  "language_info": {
   "codemirror_mode": {
    "name": "ipython",
    "version": 2
   },
   "file_extension": ".py",
   "mimetype": "text/x-python",
   "name": "python",
   "nbconvert_exporter": "python",
   "pygments_lexer": "ipython2",
   "version": "2.7.6"
  }
 },
 "nbformat": 4,
 "nbformat_minor": 0
}
