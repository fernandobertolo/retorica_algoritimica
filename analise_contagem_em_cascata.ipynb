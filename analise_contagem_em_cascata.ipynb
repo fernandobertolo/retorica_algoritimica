{
 "cells": [
  {
   "cell_type": "code",
   "execution_count": 1,
   "metadata": {
    "collapsed": true
   },
   "outputs": [],
   "source": [
    "import os\n",
    "from funcoes_de_contagem import lista_de_mais_frequentes_calibrada, itera_ou_abre_arquivos"
   ]
  },
  {
   "cell_type": "code",
   "execution_count": 2,
   "outputs": [],
   "source": [
    "corpus_especifico = \"corpus_comentarios_elis\""
   ],
   "metadata": {
    "collapsed": false
   }
  },
  {
   "cell_type": "code",
   "execution_count": 6,
   "outputs": [
    {
     "name": "stdout",
     "output_type": "stream",
     "text": [
      "Nº Caracteres corpora: corpus_comentarios_elis - \n",
      "411650\n",
      "Nº Caracteres corpora: pt.txt - \n",
      "17034654\n"
     ]
    },
    {
     "data": {
      "text/plain": "[('.', 2970),\n ('parabéns', 1044),\n ('propaganda', 841),\n ('comercial', 801),\n ('elis', 580),\n ('lindo', 559),\n ('...', 530),\n ('emocionante', 441),\n ('volkswagen', 406),\n ('❤', 405),\n ('linda', 389),\n ('vw', 380),\n ('kombi', 213),\n ('ditadura', 210),\n ('sensacional', 199),\n ('regina', 194),\n ('rita', 187),\n ('homenagem', 164),\n ('belchior', 161),\n ('fusca', 142),\n ('chorei', 139),\n ('..', 126),\n ('....', 126),\n ('você', 29),\n ('tom', 2)]"
     },
     "execution_count": 6,
     "metadata": {},
     "output_type": "execute_result"
    }
   ],
   "source": [
    "mais_frequentes = lista_de_mais_frequentes_calibrada(corpus_especifico, \"pt.txt\", 1220)\n",
    "mais_frequentes.most_common(100)"
   ],
   "metadata": {
    "collapsed": false
   }
  },
  {
   "cell_type": "code",
   "execution_count": null,
   "outputs": [
    {
     "name": "stdout",
     "output_type": "stream",
     "text": [
      "Nº Caracteres corpora: corpus_comentarios_elis - \n",
      "411650\n",
      "Nº Caracteres corpora: pt.txt - \n",
      "17034654\n"
     ]
    }
   ],
   "source": [
    "def cascata_de_lista_de_mais_frequentes_calibradas(corpus_especifico, corpus_geral, limiar_1, limiar_2, n=10):\n",
    "    \"\"\"\n",
    "    Gera listas em cascata de palavras mais frequentes a partir de um corpus específico.\n",
    "    É necessário que o corpus se um conjunto de arquivos, cada um com um comentário.\n",
    "    Depois,a funcão cria sublistas relacionadas.\n",
    "\n",
    "    A função executa duas etapas principais:\n",
    "    1. Cria uma lista de palavras mais frequentes no corpus específico, calibrada\n",
    "       com base em um corpus geral (limiar_1), e limpa elementos indesejados\n",
    "       como pontuação.\n",
    "    2. Para cada uma das N palavras mais frequentes dessa lista, varre os arquivos\n",
    "       do corpus específico em busca de textos que contenham essa palavra. Com os\n",
    "       textos encontrados, gera uma nova lista de palavras frequentes (sublista),\n",
    "       também calibrada com base no corpus geral (limiar_2).\n",
    "\n",
    "    Parâmetros:\n",
    "        corpus_especifico (str): Caminho para a pasta contendo arquivos .txt do corpus de interesse.\n",
    "        corpus_geral (str): Caminho para o corpus geral (ou nome do arquivo) usado para calibragem.\n",
    "        limiar_1 (int): Limiar de frequência mínima no corpus geral para a 1ª filtragem.\n",
    "        limiar_2 (int): Limiar de frequência mínima no corpus geral para as sublistas.\n",
    "        n (int, opcional): Número de palavras mais frequentes a serem analisadas e exibidas (default é 10).\n",
    "\n",
    "    Retorno:\n",
    "        Nenhum (a função imprime no console as palavras mais frequentes e suas respectivas sublistas).\n",
    "\n",
    "    Observação:\n",
    "        A função depende de outra chamada `lista_de_mais_frequentes_calibrada`, que deve estar definida\n",
    "        no mesmo escopo ou importada de outro módulo.\n",
    "    \"\"\"\n",
    "\n",
    "    def popador_de_porcarias(objeto_freq_dist):\n",
    "        lista_popaveis = [\".\",\",\",\"...\",\"!\",]\n",
    "        for p in lista_popaveis:\n",
    "            try:\n",
    "                objeto_freq_dist.pop(p)\n",
    "            except KeyError:\n",
    "                pass  # A chave não existia — segue o baile\n",
    "\n",
    "    # PARTE 1 - geraa primeira lista de mais frequentes\n",
    "    mais_frequentes = lista_de_mais_frequentes_calibrada(corpus_especifico, corpus_geral, limiar_1)\n",
    "    # excluir pontos, virgulas e outras cositas mais\n",
    "\n",
    "    # Função que popa os pontos e outros sinais gráficos\n",
    "    popador_de_porcarias(mais_frequentes)\n",
    "    print(mais_frequentes.most_common(n))\n",
    "\n",
    "    # PARTE 2 - Gera as sublistas de mais frequentes\n",
    "    # Itera a lista das N palvras mais frequentes\n",
    "    for palavra_mais_frequente in mais_frequentes.most_common(n):\n",
    "        print(f\"\\n{palavra_mais_frequente[0]}\\n\")\n",
    "        frases_alvos = \"\"\n",
    "        # Itera os arquivos e seleciona somente aqueles que possuam a palavra mais frequente da vez\n",
    "        for arquivo in os.listdir(corpus_especifico):\n",
    "            if arquivo.endswith(\".txt\"):\n",
    "                caminho_arquivo = os.path.join(corpus_especifico, arquivo)\n",
    "\n",
    "                # Abre e lê o arquivo\n",
    "                with open(caminho_arquivo, \"r\", encoding=\"utf-8\") as f:\n",
    "                    texto = f.read().strip()  # Remove espaços extras\n",
    "\n",
    "                # Verifica se o comentário tem a palavra alvo\n",
    "                if palavra_mais_frequente[0].lower() in texto.lower():\n",
    "                    frases_alvos = frases_alvos + \" \" + texto\n",
    "        #  Geral sub lista de mais frequente da vez\n",
    "        sublista_mais_frequentes = lista_de_mais_frequentes_calibrada(frases_alvos, \"pt.txt\", limiar_2, False)\n",
    "        popador_de_porcarias(sublista_mais_frequentes)\n",
    "        print(sublista_mais_frequentes.most_common(n))\n",
    "\n",
    "\n",
    "cascata_de_lista_de_mais_frequentes_calibradas(corpus_especifico, \"pt.txt\", 1200, 300, 16)"
   ],
   "metadata": {
    "collapsed": false,
    "pycharm": {
     "is_executing": true
    }
   }
  },
  {
   "cell_type": "code",
   "execution_count": 24,
   "outputs": [
    {
     "ename": "KeyError",
     "evalue": "'.'",
     "output_type": "error",
     "traceback": [
      "\u001B[0;31m---------------------------------------------------------------------------\u001B[0m",
      "\u001B[0;31mKeyError\u001B[0m                                  Traceback (most recent call last)",
      "Cell \u001B[0;32mIn[24], line 1\u001B[0m\n\u001B[0;32m----> 1\u001B[0m \u001B[43mmais_frequentes\u001B[49m\u001B[38;5;241;43m.\u001B[39;49m\u001B[43mpop\u001B[49m\u001B[43m(\u001B[49m\u001B[38;5;124;43m\"\u001B[39;49m\u001B[38;5;124;43m.\u001B[39;49m\u001B[38;5;124;43m\"\u001B[39;49m\u001B[43m)\u001B[49m\n",
      "\u001B[0;31mKeyError\u001B[0m: '.'"
     ]
    }
   ],
   "source": [],
   "metadata": {
    "collapsed": false
   }
  },
  {
   "cell_type": "code",
   "execution_count": 31,
   "outputs": [
    {
     "data": {
      "text/plain": "[('parabéns', 1044),\n ('propaganda', 841),\n ('comercial', 801),\n ('elis', 580),\n ('lindo', 559),\n ('emocionante', 441),\n ('volkswagen', 406),\n ('❤', 405),\n ('linda', 389),\n ('vw', 380)]"
     },
     "execution_count": 31,
     "metadata": {},
     "output_type": "execute_result"
    }
   ],
   "source": [
    "mais_frequentes.most_common(10)"
   ],
   "metadata": {
    "collapsed": false
   }
  },
  {
   "cell_type": "code",
   "execution_count": null,
   "outputs": [],
   "source": [],
   "metadata": {
    "collapsed": false
   }
  }
 ],
 "metadata": {
  "kernelspec": {
   "display_name": "Python 3",
   "language": "python",
   "name": "python3"
  },
  "language_info": {
   "codemirror_mode": {
    "name": "ipython",
    "version": 2
   },
   "file_extension": ".py",
   "mimetype": "text/x-python",
   "name": "python",
   "nbconvert_exporter": "python",
   "pygments_lexer": "ipython2",
   "version": "2.7.6"
  }
 },
 "nbformat": 4,
 "nbformat_minor": 0
}
